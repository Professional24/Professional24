{
 "cells": [
  {
   "cell_type": "code",
   "execution_count": 1,
   "id": "371207e7",
   "metadata": {
    "_cell_guid": "b1076dfc-b9ad-4769-8c92-a6c4dae69d19",
    "_uuid": "8f2839f25d086af736a60e9eeb907d3b93b6e0e5",
    "execution": {
     "iopub.execute_input": "2022-12-06T15:22:23.536522Z",
     "iopub.status.busy": "2022-12-06T15:22:23.535551Z",
     "iopub.status.idle": "2022-12-06T15:22:23.556201Z",
     "shell.execute_reply": "2022-12-06T15:22:23.555298Z"
    },
    "papermill": {
     "duration": 0.030148,
     "end_time": "2022-12-06T15:22:23.559811",
     "exception": false,
     "start_time": "2022-12-06T15:22:23.529663",
     "status": "completed"
    },
    "tags": []
   },
   "outputs": [
    {
     "name": "stdout",
     "output_type": "stream",
     "text": [
      "/kaggle/input/heart-failure-prediction/heart.csv\n"
     ]
    }
   ],
   "source": [
    "# This Python 3 environment comes with many helpful analytics libraries installed\n",
    "# It is defined by the kaggle/python Docker image: https://github.com/kaggle/docker-python\n",
    "# For example, here's several helpful packages to load\n",
    "\n",
    "import numpy as np # linear algebra\n",
    "import pandas as pd # data processing, CSV file I/O (e.g. pd.read_csv)\n",
    "\n",
    "# Input data files are available in the read-only \"../input/\" directory\n",
    "# For example, running this (by clicking run or pressing Shift+Enter) will list all files under the input directory\n",
    "\n",
    "import os\n",
    "for dirname, _, filenames in os.walk('/kaggle/input'):\n",
    "    for filename in filenames:\n",
    "        print(os.path.join(dirname, filename))\n",
    "\n",
    "# You can write up to 20GB to the current directory (/kaggle/working/) that gets preserved as output when you create a version using \"Save & Run All\" \n",
    "# You can also write temporary files to /kaggle/temp/, but they won't be saved outside of the current session"
   ]
  },
  {
   "cell_type": "markdown",
   "id": "fdf04935",
   "metadata": {
    "papermill": {
     "duration": 0.004204,
     "end_time": "2022-12-06T15:22:23.569101",
     "exception": false,
     "start_time": "2022-12-06T15:22:23.564897",
     "status": "completed"
    },
    "tags": []
   },
   "source": [
    "**Aim of the model:** To predict whether someone is likely to have heart failure or not based on their chloresterol level. \n",
    "\n",
    "**References:**\n",
    "\n",
    "Becker, D. (2022). Your First Machine Learning Model. Kaggle. https://www.kaggle.com/code/dansbecker/your-first-machine-learning-model\n",
    "\n",
    "Becker, D. (2022). Model Validation. Kaggle. https://www.kaggle.com/code/dansbecker/model-validation\n",
    "\n",
    "Becker, D. (2022). Underfitting and Overfitting. Kaggle. https://www.kaggle.com/code/dansbecker/underfitting-and-overfitting\n",
    "\n",
    "Becker, D. (2022). Random Forests. Kaggle. https://www.kaggle.com/code/dansbecker/random-forests\n",
    "\n",
    "Fedesoriano. (September 2021). Heart Failure Prediction Dataset. Retrieved [23/11/2022] from https://www.kaggle.com/fedesoriano/heart-failure-prediction."
   ]
  },
  {
   "cell_type": "code",
   "execution_count": 2,
   "id": "77ba965e",
   "metadata": {
    "execution": {
     "iopub.execute_input": "2022-12-06T15:22:23.579357Z",
     "iopub.status.busy": "2022-12-06T15:22:23.578620Z",
     "iopub.status.idle": "2022-12-06T15:22:23.611126Z",
     "shell.execute_reply": "2022-12-06T15:22:23.610234Z"
    },
    "papermill": {
     "duration": 0.040028,
     "end_time": "2022-12-06T15:22:23.612920",
     "exception": false,
     "start_time": "2022-12-06T15:22:23.572892",
     "status": "completed"
    },
    "tags": []
   },
   "outputs": [
    {
     "data": {
      "text/plain": [
       "Index(['Age', 'Sex', 'ChestPainType', 'RestingBP', 'Cholesterol', 'FastingBS',\n",
       "       'RestingECG', 'MaxHR', 'ExerciseAngina', 'Oldpeak', 'ST_Slope',\n",
       "       'HeartDisease'],\n",
       "      dtype='object')"
      ]
     },
     "execution_count": 2,
     "metadata": {},
     "output_type": "execute_result"
    }
   ],
   "source": [
    "import pandas as pd\n",
    "heart_file_path = '../input/heart-failure-prediction/heart.csv'\n",
    "heart_data = pd.read_csv(heart_file_path)\n",
    "heart_data.columns"
   ]
  },
  {
   "cell_type": "code",
   "execution_count": 3,
   "id": "49366212",
   "metadata": {
    "execution": {
     "iopub.execute_input": "2022-12-06T15:22:23.622696Z",
     "iopub.status.busy": "2022-12-06T15:22:23.622079Z",
     "iopub.status.idle": "2022-12-06T15:22:23.636657Z",
     "shell.execute_reply": "2022-12-06T15:22:23.635355Z"
    },
    "papermill": {
     "duration": 0.021985,
     "end_time": "2022-12-06T15:22:23.638965",
     "exception": false,
     "start_time": "2022-12-06T15:22:23.616980",
     "status": "completed"
    },
    "tags": []
   },
   "outputs": [],
   "source": [
    "heart_data = heart_data.dropna(axis=0)"
   ]
  },
  {
   "cell_type": "code",
   "execution_count": 4,
   "id": "5bdf0f72",
   "metadata": {
    "execution": {
     "iopub.execute_input": "2022-12-06T15:22:23.648195Z",
     "iopub.status.busy": "2022-12-06T15:22:23.647811Z",
     "iopub.status.idle": "2022-12-06T15:22:23.684433Z",
     "shell.execute_reply": "2022-12-06T15:22:23.683126Z"
    },
    "papermill": {
     "duration": 0.044473,
     "end_time": "2022-12-06T15:22:23.687259",
     "exception": false,
     "start_time": "2022-12-06T15:22:23.642786",
     "status": "completed"
    },
    "tags": []
   },
   "outputs": [
    {
     "data": {
      "text/html": [
       "<div>\n",
       "<style scoped>\n",
       "    .dataframe tbody tr th:only-of-type {\n",
       "        vertical-align: middle;\n",
       "    }\n",
       "\n",
       "    .dataframe tbody tr th {\n",
       "        vertical-align: top;\n",
       "    }\n",
       "\n",
       "    .dataframe thead th {\n",
       "        text-align: right;\n",
       "    }\n",
       "</style>\n",
       "<table border=\"1\" class=\"dataframe\">\n",
       "  <thead>\n",
       "    <tr style=\"text-align: right;\">\n",
       "      <th></th>\n",
       "      <th>Age</th>\n",
       "      <th>RestingBP</th>\n",
       "    </tr>\n",
       "  </thead>\n",
       "  <tbody>\n",
       "    <tr>\n",
       "      <th>count</th>\n",
       "      <td>918.000000</td>\n",
       "      <td>918.000000</td>\n",
       "    </tr>\n",
       "    <tr>\n",
       "      <th>mean</th>\n",
       "      <td>53.510893</td>\n",
       "      <td>132.396514</td>\n",
       "    </tr>\n",
       "    <tr>\n",
       "      <th>std</th>\n",
       "      <td>9.432617</td>\n",
       "      <td>18.514154</td>\n",
       "    </tr>\n",
       "    <tr>\n",
       "      <th>min</th>\n",
       "      <td>28.000000</td>\n",
       "      <td>0.000000</td>\n",
       "    </tr>\n",
       "    <tr>\n",
       "      <th>25%</th>\n",
       "      <td>47.000000</td>\n",
       "      <td>120.000000</td>\n",
       "    </tr>\n",
       "    <tr>\n",
       "      <th>50%</th>\n",
       "      <td>54.000000</td>\n",
       "      <td>130.000000</td>\n",
       "    </tr>\n",
       "    <tr>\n",
       "      <th>75%</th>\n",
       "      <td>60.000000</td>\n",
       "      <td>140.000000</td>\n",
       "    </tr>\n",
       "    <tr>\n",
       "      <th>max</th>\n",
       "      <td>77.000000</td>\n",
       "      <td>200.000000</td>\n",
       "    </tr>\n",
       "  </tbody>\n",
       "</table>\n",
       "</div>"
      ],
      "text/plain": [
       "              Age   RestingBP\n",
       "count  918.000000  918.000000\n",
       "mean    53.510893  132.396514\n",
       "std      9.432617   18.514154\n",
       "min     28.000000    0.000000\n",
       "25%     47.000000  120.000000\n",
       "50%     54.000000  130.000000\n",
       "75%     60.000000  140.000000\n",
       "max     77.000000  200.000000"
      ]
     },
     "execution_count": 4,
     "metadata": {},
     "output_type": "execute_result"
    }
   ],
   "source": [
    "y = heart_data.Cholesterol\n",
    "heart_features = ['Age', 'RestingBP']\n",
    "X = heart_data[heart_features]\n",
    "X.describe()"
   ]
  },
  {
   "cell_type": "code",
   "execution_count": 5,
   "id": "473e709c",
   "metadata": {
    "execution": {
     "iopub.execute_input": "2022-12-06T15:22:23.697544Z",
     "iopub.status.busy": "2022-12-06T15:22:23.696450Z",
     "iopub.status.idle": "2022-12-06T15:22:23.708249Z",
     "shell.execute_reply": "2022-12-06T15:22:23.706775Z"
    },
    "papermill": {
     "duration": 0.019548,
     "end_time": "2022-12-06T15:22:23.710838",
     "exception": false,
     "start_time": "2022-12-06T15:22:23.691290",
     "status": "completed"
    },
    "tags": []
   },
   "outputs": [
    {
     "data": {
      "text/html": [
       "<div>\n",
       "<style scoped>\n",
       "    .dataframe tbody tr th:only-of-type {\n",
       "        vertical-align: middle;\n",
       "    }\n",
       "\n",
       "    .dataframe tbody tr th {\n",
       "        vertical-align: top;\n",
       "    }\n",
       "\n",
       "    .dataframe thead th {\n",
       "        text-align: right;\n",
       "    }\n",
       "</style>\n",
       "<table border=\"1\" class=\"dataframe\">\n",
       "  <thead>\n",
       "    <tr style=\"text-align: right;\">\n",
       "      <th></th>\n",
       "      <th>Age</th>\n",
       "      <th>RestingBP</th>\n",
       "    </tr>\n",
       "  </thead>\n",
       "  <tbody>\n",
       "    <tr>\n",
       "      <th>0</th>\n",
       "      <td>40</td>\n",
       "      <td>140</td>\n",
       "    </tr>\n",
       "    <tr>\n",
       "      <th>1</th>\n",
       "      <td>49</td>\n",
       "      <td>160</td>\n",
       "    </tr>\n",
       "    <tr>\n",
       "      <th>2</th>\n",
       "      <td>37</td>\n",
       "      <td>130</td>\n",
       "    </tr>\n",
       "    <tr>\n",
       "      <th>3</th>\n",
       "      <td>48</td>\n",
       "      <td>138</td>\n",
       "    </tr>\n",
       "    <tr>\n",
       "      <th>4</th>\n",
       "      <td>54</td>\n",
       "      <td>150</td>\n",
       "    </tr>\n",
       "  </tbody>\n",
       "</table>\n",
       "</div>"
      ],
      "text/plain": [
       "   Age  RestingBP\n",
       "0   40        140\n",
       "1   49        160\n",
       "2   37        130\n",
       "3   48        138\n",
       "4   54        150"
      ]
     },
     "execution_count": 5,
     "metadata": {},
     "output_type": "execute_result"
    }
   ],
   "source": [
    "X.head()"
   ]
  },
  {
   "cell_type": "code",
   "execution_count": 6,
   "id": "f2cf0dbf",
   "metadata": {
    "execution": {
     "iopub.execute_input": "2022-12-06T15:22:23.720941Z",
     "iopub.status.busy": "2022-12-06T15:22:23.720563Z",
     "iopub.status.idle": "2022-12-06T15:22:25.079738Z",
     "shell.execute_reply": "2022-12-06T15:22:25.079055Z"
    },
    "papermill": {
     "duration": 1.36675,
     "end_time": "2022-12-06T15:22:25.081885",
     "exception": false,
     "start_time": "2022-12-06T15:22:23.715135",
     "status": "completed"
    },
    "tags": []
   },
   "outputs": [
    {
     "data": {
      "text/plain": [
       "DecisionTreeRegressor(random_state=1)"
      ]
     },
     "execution_count": 6,
     "metadata": {},
     "output_type": "execute_result"
    }
   ],
   "source": [
    "from sklearn.tree import DecisionTreeRegressor\n",
    "heart_model = DecisionTreeRegressor(random_state=1)\n",
    "heart_model.fit(X, y)"
   ]
  },
  {
   "cell_type": "code",
   "execution_count": 7,
   "id": "bca14604",
   "metadata": {
    "execution": {
     "iopub.execute_input": "2022-12-06T15:22:25.091559Z",
     "iopub.status.busy": "2022-12-06T15:22:25.091212Z",
     "iopub.status.idle": "2022-12-06T15:22:25.102299Z",
     "shell.execute_reply": "2022-12-06T15:22:25.100767Z"
    },
    "papermill": {
     "duration": 0.018639,
     "end_time": "2022-12-06T15:22:25.104684",
     "exception": false,
     "start_time": "2022-12-06T15:22:25.086045",
     "status": "completed"
    },
    "tags": []
   },
   "outputs": [
    {
     "name": "stdout",
     "output_type": "stream",
     "text": [
      "Making predictions for the following 5 measurements of cholesterol and restingBP:\n",
      "   Age  RestingBP\n",
      "0   40        140\n",
      "1   49        160\n",
      "2   37        130\n",
      "3   48        138\n",
      "4   54        150\n",
      "The predictions are\n",
      "[241.         180.         237.66666667 214.         255.5       ]\n"
     ]
    }
   ],
   "source": [
    "print(\"Making predictions for the following 5 measurements of cholesterol and restingBP:\")\n",
    "print(X.head())\n",
    "print(\"The predictions are\")\n",
    "print(heart_model.predict(X.head()))"
   ]
  },
  {
   "cell_type": "code",
   "execution_count": 8,
   "id": "46f0fc03",
   "metadata": {
    "execution": {
     "iopub.execute_input": "2022-12-06T15:22:25.116256Z",
     "iopub.status.busy": "2022-12-06T15:22:25.114706Z",
     "iopub.status.idle": "2022-12-06T15:22:25.125866Z",
     "shell.execute_reply": "2022-12-06T15:22:25.124519Z"
    },
    "papermill": {
     "duration": 0.019615,
     "end_time": "2022-12-06T15:22:25.128571",
     "exception": false,
     "start_time": "2022-12-06T15:22:25.108956",
     "status": "completed"
    },
    "tags": []
   },
   "outputs": [
    {
     "data": {
      "text/plain": [
       "40.687761995931936"
      ]
     },
     "execution_count": 8,
     "metadata": {},
     "output_type": "execute_result"
    }
   ],
   "source": [
    "from sklearn.metrics import mean_absolute_error\n",
    "predicted_cholesterol_levels = heart_model.predict(X)\n",
    "mean_absolute_error(y, predicted_cholesterol_levels)"
   ]
  },
  {
   "cell_type": "code",
   "execution_count": 9,
   "id": "11cc3b69",
   "metadata": {
    "execution": {
     "iopub.execute_input": "2022-12-06T15:22:25.139864Z",
     "iopub.status.busy": "2022-12-06T15:22:25.138534Z",
     "iopub.status.idle": "2022-12-06T15:22:25.151062Z",
     "shell.execute_reply": "2022-12-06T15:22:25.149986Z"
    },
    "papermill": {
     "duration": 0.019937,
     "end_time": "2022-12-06T15:22:25.153035",
     "exception": false,
     "start_time": "2022-12-06T15:22:25.133098",
     "status": "completed"
    },
    "tags": []
   },
   "outputs": [
    {
     "name": "stdout",
     "output_type": "stream",
     "text": [
      "116.81123188405796\n"
     ]
    }
   ],
   "source": [
    "from sklearn.model_selection import train_test_split\n",
    "train_X, val_X, train_y, val_y = train_test_split(X, y, random_state=0)\n",
    "heart_model = DecisionTreeRegressor()\n",
    "heart_model.fit(train_X, train_y)\n",
    "val_predictions = heart_model.predict(val_X)\n",
    "print(mean_absolute_error(val_y, val_predictions))"
   ]
  },
  {
   "cell_type": "code",
   "execution_count": 10,
   "id": "b247587a",
   "metadata": {
    "execution": {
     "iopub.execute_input": "2022-12-06T15:22:25.164075Z",
     "iopub.status.busy": "2022-12-06T15:22:25.162862Z",
     "iopub.status.idle": "2022-12-06T15:22:25.170400Z",
     "shell.execute_reply": "2022-12-06T15:22:25.168641Z"
    },
    "papermill": {
     "duration": 0.015953,
     "end_time": "2022-12-06T15:22:25.173402",
     "exception": false,
     "start_time": "2022-12-06T15:22:25.157449",
     "status": "completed"
    },
    "tags": []
   },
   "outputs": [],
   "source": [
    "from sklearn.metrics import mean_absolute_error\n",
    "from sklearn.tree import DecisionTreeRegressor\n",
    "\n",
    "def get_mae(max_leaf_nodes, train_X, val_X, train_y, val_y):\n",
    "    model = DecisionTreeRegressor(max_leaf_nodes=max_leaf_nodes, \n",
    "                                  random_state=0)\n",
    "    model.fit(train_X, train_y)\n",
    "    preds_val = model.predict(val_X)\n",
    "    mae = mean_absolute_error(val_y, preds_val)\n",
    "    return(mae)\n",
    "    "
   ]
  },
  {
   "cell_type": "code",
   "execution_count": 11,
   "id": "0a036545",
   "metadata": {
    "execution": {
     "iopub.execute_input": "2022-12-06T15:22:25.188850Z",
     "iopub.status.busy": "2022-12-06T15:22:25.188485Z",
     "iopub.status.idle": "2022-12-06T15:22:25.214800Z",
     "shell.execute_reply": "2022-12-06T15:22:25.212854Z"
    },
    "papermill": {
     "duration": 0.03834,
     "end_time": "2022-12-06T15:22:25.217949",
     "exception": false,
     "start_time": "2022-12-06T15:22:25.179609",
     "status": "completed"
    },
    "tags": []
   },
   "outputs": [
    {
     "name": "stdout",
     "output_type": "stream",
     "text": [
      "Max leaf nodes: 5 \t \t Mean Absolute Error: 93\n",
      "Max leaf nodes: 50 \t \t Mean Absolute Error: 98\n",
      "Max leaf nodes: 500 \t \t Mean Absolute Error: 118\n",
      "Max leaf nodes: 5000 \t \t Mean Absolute Error: 118\n"
     ]
    }
   ],
   "source": [
    "for max_leaf_nodes in [5, 50, 500, 5000]:\n",
    "    my_mae = get_mae(max_leaf_nodes, train_X, val_X, train_y, val_y)\n",
    "    print(\"Max leaf nodes: %d \\t \\t Mean Absolute Error: %d\" %(max_leaf_nodes, my_mae))"
   ]
  },
  {
   "cell_type": "code",
   "execution_count": 12,
   "id": "028fe8ca",
   "metadata": {
    "execution": {
     "iopub.execute_input": "2022-12-06T15:22:25.230412Z",
     "iopub.status.busy": "2022-12-06T15:22:25.229966Z",
     "iopub.status.idle": "2022-12-06T15:22:25.473954Z",
     "shell.execute_reply": "2022-12-06T15:22:25.471659Z"
    },
    "papermill": {
     "duration": 0.253447,
     "end_time": "2022-12-06T15:22:25.476582",
     "exception": false,
     "start_time": "2022-12-06T15:22:25.223135",
     "status": "completed"
    },
    "tags": []
   },
   "outputs": [
    {
     "name": "stdout",
     "output_type": "stream",
     "text": [
      "104.82874175848306\n"
     ]
    }
   ],
   "source": [
    "from sklearn.ensemble import RandomForestRegressor\n",
    "from sklearn.metrics import mean_absolute_error\n",
    "\n",
    "forest_model = RandomForestRegressor(random_state=1)\n",
    "forest_model.fit(train_X, train_y)\n",
    "heart_preds = forest_model.predict(val_X)\n",
    "print(mean_absolute_error(val_y, heart_preds))"
   ]
  }
 ],
 "metadata": {
  "kernelspec": {
   "display_name": "Python 3",
   "language": "python",
   "name": "python3"
  },
  "language_info": {
   "codemirror_mode": {
    "name": "ipython",
    "version": 3
   },
   "file_extension": ".py",
   "mimetype": "text/x-python",
   "name": "python",
   "nbconvert_exporter": "python",
   "pygments_lexer": "ipython3",
   "version": "3.7.12"
  },
  "papermill": {
   "default_parameters": {},
   "duration": 10.994268,
   "end_time": "2022-12-06T15:22:26.305802",
   "environment_variables": {},
   "exception": null,
   "input_path": "__notebook__.ipynb",
   "output_path": "__notebook__.ipynb",
   "parameters": {},
   "start_time": "2022-12-06T15:22:15.311534",
   "version": "2.3.4"
  }
 },
 "nbformat": 4,
 "nbformat_minor": 5
}
