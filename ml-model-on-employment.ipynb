{
 "cells": [
  {
   "cell_type": "code",
   "execution_count": 1,
   "id": "12cd5659",
   "metadata": {
    "_cell_guid": "b1076dfc-b9ad-4769-8c92-a6c4dae69d19",
    "_uuid": "8f2839f25d086af736a60e9eeb907d3b93b6e0e5",
    "execution": {
     "iopub.execute_input": "2022-12-12T15:46:49.129789Z",
     "iopub.status.busy": "2022-12-12T15:46:49.129254Z",
     "iopub.status.idle": "2022-12-12T15:46:49.148633Z",
     "shell.execute_reply": "2022-12-12T15:46:49.147657Z"
    },
    "papermill": {
     "duration": 0.029705,
     "end_time": "2022-12-12T15:46:49.152170",
     "exception": false,
     "start_time": "2022-12-12T15:46:49.122465",
     "status": "completed"
    },
    "tags": []
   },
   "outputs": [
    {
     "name": "stdout",
     "output_type": "stream",
     "text": [
      "/kaggle/input/impact-of-covid19-on-employment-ilostat/employment_data.csv\n"
     ]
    }
   ],
   "source": [
    "# This Python 3 environment comes with many helpful analytics libraries installed\n",
    "# It is defined by the kaggle/python Docker image: https://github.com/kaggle/docker-python\n",
    "# For example, here's several helpful packages to load\n",
    "\n",
    "import numpy as np # linear algebra\n",
    "import pandas as pd # data processing, CSV file I/O (e.g. pd.read_csv)\n",
    "\n",
    "# Input data files are available in the read-only \"../input/\" directory\n",
    "# For example, running this (by clicking run or pressing Shift+Enter) will list all files under the input directory\n",
    "\n",
    "import os\n",
    "for dirname, _, filenames in os.walk('/kaggle/input'):\n",
    "    for filename in filenames:\n",
    "        print(os.path.join(dirname, filename))\n",
    "\n",
    "# You can write up to 20GB to the current directory (/kaggle/working/) that gets preserved as output when you create a version using \"Save & Run All\" \n",
    "# You can also write temporary files to /kaggle/temp/, but they won't be saved outside of the current session"
   ]
  },
  {
   "cell_type": "code",
   "execution_count": 2,
   "id": "2e27ffbe",
   "metadata": {
    "execution": {
     "iopub.execute_input": "2022-12-12T15:46:49.161825Z",
     "iopub.status.busy": "2022-12-12T15:46:49.161364Z",
     "iopub.status.idle": "2022-12-12T15:46:49.183365Z",
     "shell.execute_reply": "2022-12-12T15:46:49.181958Z"
    },
    "papermill": {
     "duration": 0.029978,
     "end_time": "2022-12-12T15:46:49.186142",
     "exception": false,
     "start_time": "2022-12-12T15:46:49.156164",
     "status": "completed"
    },
    "tags": []
   },
   "outputs": [
    {
     "data": {
      "text/plain": [
       "Index(['country', 'total_weekly_hours_worked(estimates_in_thousands)',\n",
       "       'percentage_of_working_hrs_lost', 'percent_hours_lost_40hrs_per_week',\n",
       "       'percent_hours_lost_48hrs_per_week', 'labour_dependency_ratio',\n",
       "       'employed_female_25+_2019', 'employed_male_25+_2019',\n",
       "       'ratio_of_weekly_hours_worked_by_population_age_15-64'],\n",
       "      dtype='object')"
      ]
     },
     "execution_count": 2,
     "metadata": {},
     "output_type": "execute_result"
    }
   ],
   "source": [
    "import pandas as pd\n",
    "\n",
    "employment_file_path = '../input/impact-of-covid19-on-employment-ilostat/employment_data.csv'\n",
    "employment_data = pd.read_csv(employment_file_path) \n",
    "employment_data.columns "
   ]
  },
  {
   "cell_type": "code",
   "execution_count": 3,
   "id": "1de5c533",
   "metadata": {
    "execution": {
     "iopub.execute_input": "2022-12-12T15:46:49.195945Z",
     "iopub.status.busy": "2022-12-12T15:46:49.195532Z",
     "iopub.status.idle": "2022-12-12T15:46:49.242891Z",
     "shell.execute_reply": "2022-12-12T15:46:49.241473Z"
    },
    "papermill": {
     "duration": 0.055428,
     "end_time": "2022-12-12T15:46:49.245544",
     "exception": false,
     "start_time": "2022-12-12T15:46:49.190116",
     "status": "completed"
    },
    "tags": []
   },
   "outputs": [
    {
     "data": {
      "text/html": [
       "<div>\n",
       "<style scoped>\n",
       "    .dataframe tbody tr th:only-of-type {\n",
       "        vertical-align: middle;\n",
       "    }\n",
       "\n",
       "    .dataframe tbody tr th {\n",
       "        vertical-align: top;\n",
       "    }\n",
       "\n",
       "    .dataframe thead th {\n",
       "        text-align: right;\n",
       "    }\n",
       "</style>\n",
       "<table border=\"1\" class=\"dataframe\">\n",
       "  <thead>\n",
       "    <tr style=\"text-align: right;\">\n",
       "      <th></th>\n",
       "      <th>ratio_of_weekly_hours_worked_by_population_age_15-64</th>\n",
       "    </tr>\n",
       "  </thead>\n",
       "  <tbody>\n",
       "    <tr>\n",
       "      <th>count</th>\n",
       "      <td>283.000000</td>\n",
       "    </tr>\n",
       "    <tr>\n",
       "      <th>mean</th>\n",
       "      <td>23.459364</td>\n",
       "    </tr>\n",
       "    <tr>\n",
       "      <th>std</th>\n",
       "      <td>4.598613</td>\n",
       "    </tr>\n",
       "    <tr>\n",
       "      <th>min</th>\n",
       "      <td>12.000000</td>\n",
       "    </tr>\n",
       "    <tr>\n",
       "      <th>25%</th>\n",
       "      <td>20.800000</td>\n",
       "    </tr>\n",
       "    <tr>\n",
       "      <th>50%</th>\n",
       "      <td>23.300000</td>\n",
       "    </tr>\n",
       "    <tr>\n",
       "      <th>75%</th>\n",
       "      <td>25.950000</td>\n",
       "    </tr>\n",
       "    <tr>\n",
       "      <th>max</th>\n",
       "      <td>39.100000</td>\n",
       "    </tr>\n",
       "  </tbody>\n",
       "</table>\n",
       "</div>"
      ],
      "text/plain": [
       "       ratio_of_weekly_hours_worked_by_population_age_15-64\n",
       "count                                         283.000000   \n",
       "mean                                           23.459364   \n",
       "std                                             4.598613   \n",
       "min                                            12.000000   \n",
       "25%                                            20.800000   \n",
       "50%                                            23.300000   \n",
       "75%                                            25.950000   \n",
       "max                                            39.100000   "
      ]
     },
     "execution_count": 3,
     "metadata": {},
     "output_type": "execute_result"
    }
   ],
   "source": [
    "employment_date = employment_data.dropna(axis=0)\n",
    "y = employment_data.percent_hours_lost_48hrs_per_week\n",
    "employment_features = ['ratio_of_weekly_hours_worked_by_population_age_15-64']\n",
    "X = employment_data[employment_features]\n",
    "X.describe()"
   ]
  },
  {
   "cell_type": "code",
   "execution_count": 4,
   "id": "3c560b03",
   "metadata": {
    "execution": {
     "iopub.execute_input": "2022-12-12T15:46:49.255363Z",
     "iopub.status.busy": "2022-12-12T15:46:49.254942Z",
     "iopub.status.idle": "2022-12-12T15:46:49.265011Z",
     "shell.execute_reply": "2022-12-12T15:46:49.264212Z"
    },
    "papermill": {
     "duration": 0.018176,
     "end_time": "2022-12-12T15:46:49.267822",
     "exception": false,
     "start_time": "2022-12-12T15:46:49.249646",
     "status": "completed"
    },
    "tags": []
   },
   "outputs": [
    {
     "data": {
      "text/html": [
       "<div>\n",
       "<style scoped>\n",
       "    .dataframe tbody tr th:only-of-type {\n",
       "        vertical-align: middle;\n",
       "    }\n",
       "\n",
       "    .dataframe tbody tr th {\n",
       "        vertical-align: top;\n",
       "    }\n",
       "\n",
       "    .dataframe thead th {\n",
       "        text-align: right;\n",
       "    }\n",
       "</style>\n",
       "<table border=\"1\" class=\"dataframe\">\n",
       "  <thead>\n",
       "    <tr style=\"text-align: right;\">\n",
       "      <th></th>\n",
       "      <th>ratio_of_weekly_hours_worked_by_population_age_15-64</th>\n",
       "    </tr>\n",
       "  </thead>\n",
       "  <tbody>\n",
       "    <tr>\n",
       "      <th>0</th>\n",
       "      <td>16.2</td>\n",
       "    </tr>\n",
       "    <tr>\n",
       "      <th>1</th>\n",
       "      <td>27.1</td>\n",
       "    </tr>\n",
       "    <tr>\n",
       "      <th>2</th>\n",
       "      <td>25.5</td>\n",
       "    </tr>\n",
       "    <tr>\n",
       "      <th>3</th>\n",
       "      <td>38.6</td>\n",
       "    </tr>\n",
       "    <tr>\n",
       "      <th>4</th>\n",
       "      <td>18.1</td>\n",
       "    </tr>\n",
       "  </tbody>\n",
       "</table>\n",
       "</div>"
      ],
      "text/plain": [
       "   ratio_of_weekly_hours_worked_by_population_age_15-64\n",
       "0                                               16.2   \n",
       "1                                               27.1   \n",
       "2                                               25.5   \n",
       "3                                               38.6   \n",
       "4                                               18.1   "
      ]
     },
     "execution_count": 4,
     "metadata": {},
     "output_type": "execute_result"
    }
   ],
   "source": [
    "X.head()"
   ]
  },
  {
   "cell_type": "code",
   "execution_count": 5,
   "id": "8cc53dbf",
   "metadata": {
    "execution": {
     "iopub.execute_input": "2022-12-12T15:46:49.278160Z",
     "iopub.status.busy": "2022-12-12T15:46:49.277748Z",
     "iopub.status.idle": "2022-12-12T15:46:50.538489Z",
     "shell.execute_reply": "2022-12-12T15:46:50.537347Z"
    },
    "papermill": {
     "duration": 1.269216,
     "end_time": "2022-12-12T15:46:50.541320",
     "exception": false,
     "start_time": "2022-12-12T15:46:49.272104",
     "status": "completed"
    },
    "tags": []
   },
   "outputs": [
    {
     "data": {
      "text/plain": [
       "DecisionTreeRegressor(random_state=1)"
      ]
     },
     "execution_count": 5,
     "metadata": {},
     "output_type": "execute_result"
    }
   ],
   "source": [
    "from sklearn.tree import DecisionTreeRegressor\n",
    "employment_model = DecisionTreeRegressor(random_state=1)\n",
    "employment_model.fit(X, y)"
   ]
  },
  {
   "cell_type": "code",
   "execution_count": 6,
   "id": "0715f5e4",
   "metadata": {
    "execution": {
     "iopub.execute_input": "2022-12-12T15:46:50.552070Z",
     "iopub.status.busy": "2022-12-12T15:46:50.551687Z",
     "iopub.status.idle": "2022-12-12T15:46:50.561429Z",
     "shell.execute_reply": "2022-12-12T15:46:50.560124Z"
    },
    "papermill": {
     "duration": 0.018448,
     "end_time": "2022-12-12T15:46:50.564291",
     "exception": false,
     "start_time": "2022-12-12T15:46:50.545843",
     "status": "completed"
    },
    "tags": []
   },
   "outputs": [
    {
     "name": "stdout",
     "output_type": "stream",
     "text": [
      "Making predictions on the first 5 ratios of weekly hours worked by population aged 15-64:\n",
      "   ratio_of_weekly_hours_worked_by_population_age_15-64\n",
      "0                                               16.2   \n",
      "1                                               27.1   \n",
      "2                                               25.5   \n",
      "3                                               38.6   \n",
      "4                                               18.1   \n",
      "The predictions are\n",
      "[ 506.23        896.532        34.088       687.149      1810.66566667]\n"
     ]
    }
   ],
   "source": [
    "print(\"Making predictions on the first 5 ratios of weekly hours worked by population aged 15-64:\")\n",
    "print(X.head())\n",
    "print(\"The predictions are\")\n",
    "print(employment_model.predict(X.head()))"
   ]
  },
  {
   "cell_type": "code",
   "execution_count": 7,
   "id": "88f8dede",
   "metadata": {
    "execution": {
     "iopub.execute_input": "2022-12-12T15:46:50.574932Z",
     "iopub.status.busy": "2022-12-12T15:46:50.574465Z",
     "iopub.status.idle": "2022-12-12T15:46:50.584687Z",
     "shell.execute_reply": "2022-12-12T15:46:50.583513Z"
    },
    "papermill": {
     "duration": 0.018557,
     "end_time": "2022-12-12T15:46:50.587226",
     "exception": false,
     "start_time": "2022-12-12T15:46:50.568669",
     "status": "completed"
    },
    "tags": []
   },
   "outputs": [
    {
     "data": {
      "text/plain": [
       "8319.19460430759"
      ]
     },
     "execution_count": 7,
     "metadata": {},
     "output_type": "execute_result"
    }
   ],
   "source": [
    "from sklearn.metrics import mean_absolute_error\n",
    "predicted_percent_hours_lost_48hrs_per_week = employment_model.predict(X)\n",
    "mean_absolute_error(y, predicted_percent_hours_lost_48hrs_per_week)"
   ]
  },
  {
   "cell_type": "code",
   "execution_count": 8,
   "id": "5149ebde",
   "metadata": {
    "execution": {
     "iopub.execute_input": "2022-12-12T15:46:50.597779Z",
     "iopub.status.busy": "2022-12-12T15:46:50.597372Z",
     "iopub.status.idle": "2022-12-12T15:46:50.611509Z",
     "shell.execute_reply": "2022-12-12T15:46:50.610073Z"
    },
    "papermill": {
     "duration": 0.022344,
     "end_time": "2022-12-12T15:46:50.614024",
     "exception": false,
     "start_time": "2022-12-12T15:46:50.591680",
     "status": "completed"
    },
    "tags": []
   },
   "outputs": [
    {
     "name": "stdout",
     "output_type": "stream",
     "text": [
      "11641.95322652582\n"
     ]
    }
   ],
   "source": [
    "from sklearn.model_selection import train_test_split\n",
    "train_X, val_X, train_y, val_y = train_test_split(X, y, random_state=0)\n",
    "emplotment_model=DecisionTreeRegressor()\n",
    "employment_model.fit(train_X, train_y)\n",
    "val_predictions = employment_model.predict(val_X)\n",
    "print(mean_absolute_error(val_y, val_predictions))"
   ]
  },
  {
   "cell_type": "code",
   "execution_count": 9,
   "id": "88acac37",
   "metadata": {
    "execution": {
     "iopub.execute_input": "2022-12-12T15:46:50.624946Z",
     "iopub.status.busy": "2022-12-12T15:46:50.624524Z",
     "iopub.status.idle": "2022-12-12T15:46:50.630961Z",
     "shell.execute_reply": "2022-12-12T15:46:50.629729Z"
    },
    "papermill": {
     "duration": 0.01472,
     "end_time": "2022-12-12T15:46:50.633345",
     "exception": false,
     "start_time": "2022-12-12T15:46:50.618625",
     "status": "completed"
    },
    "tags": []
   },
   "outputs": [],
   "source": [
    "from sklearn.metrics import mean_absolute_error\n",
    "from sklearn.tree import DecisionTreeRegressor\n",
    "def get_mae(max_leaf_nodes, train_X, val_X, train_y, val_y):\n",
    "    model = DecisionTreeRegressor(max_leaf_nodes=max_leaf_nodes, random_state=0)\n",
    "    model.fit(train_X, train_y)\n",
    "    preds_val= model.predict(val_X)\n",
    "    mae = mean_absolute_error(val_y, preds_val)\n",
    "    return(mae)"
   ]
  },
  {
   "cell_type": "code",
   "execution_count": 10,
   "id": "9a99887a",
   "metadata": {
    "execution": {
     "iopub.execute_input": "2022-12-12T15:46:50.644090Z",
     "iopub.status.busy": "2022-12-12T15:46:50.643696Z",
     "iopub.status.idle": "2022-12-12T15:46:50.667420Z",
     "shell.execute_reply": "2022-12-12T15:46:50.666262Z"
    },
    "papermill": {
     "duration": 0.032367,
     "end_time": "2022-12-12T15:46:50.670222",
     "exception": false,
     "start_time": "2022-12-12T15:46:50.637855",
     "status": "completed"
    },
    "tags": []
   },
   "outputs": [
    {
     "name": "stdout",
     "output_type": "stream",
     "text": [
      "Max leaf nodes: 5 \t \t Mean Absolute Error: 12687\n",
      "Max leaf nodes: 50 \t \t Mean Absolute Error: 11674\n",
      "Max leaf nodes: 500 \t \t Mean Absolute Error: 11641\n",
      "Max leaf nodes: 5000 \t \t Mean Absolute Error: 11641\n"
     ]
    }
   ],
   "source": [
    "for max_leaf_nodes in [5, 50, 500, 5000]:\n",
    "    my_mae = get_mae(max_leaf_nodes, train_X, val_X, train_y, val_y)\n",
    "    print(\"Max leaf nodes: %d \\t \\t Mean Absolute Error: %d\" %(max_leaf_nodes, my_mae))"
   ]
  },
  {
   "cell_type": "code",
   "execution_count": 11,
   "id": "b845e7e6",
   "metadata": {
    "execution": {
     "iopub.execute_input": "2022-12-12T15:46:50.681661Z",
     "iopub.status.busy": "2022-12-12T15:46:50.681141Z",
     "iopub.status.idle": "2022-12-12T15:46:50.904914Z",
     "shell.execute_reply": "2022-12-12T15:46:50.903443Z"
    },
    "papermill": {
     "duration": 0.23244,
     "end_time": "2022-12-12T15:46:50.907489",
     "exception": false,
     "start_time": "2022-12-12T15:46:50.675049",
     "status": "completed"
    },
    "tags": []
   },
   "outputs": [
    {
     "name": "stdout",
     "output_type": "stream",
     "text": [
      "12265.583788833734\n"
     ]
    }
   ],
   "source": [
    "from sklearn.ensemble import RandomForestRegressor\n",
    "from sklearn.metrics import mean_absolute_error\n",
    "forest_model = RandomForestRegressor(random_state=1)\n",
    "forest_model.fit(train_X, train_y)\n",
    "employment_preds = forest_model.predict(val_X)\n",
    "print(mean_absolute_error(val_y, employment_preds))"
   ]
  }
 ],
 "metadata": {
  "kernelspec": {
   "display_name": "Python 3",
   "language": "python",
   "name": "python3"
  },
  "language_info": {
   "codemirror_mode": {
    "name": "ipython",
    "version": 3
   },
   "file_extension": ".py",
   "mimetype": "text/x-python",
   "name": "python",
   "nbconvert_exporter": "python",
   "pygments_lexer": "ipython3",
   "version": "3.7.12"
  },
  "papermill": {
   "default_parameters": {},
   "duration": 13.077823,
   "end_time": "2022-12-12T15:46:51.637475",
   "environment_variables": {},
   "exception": null,
   "input_path": "__notebook__.ipynb",
   "output_path": "__notebook__.ipynb",
   "parameters": {},
   "start_time": "2022-12-12T15:46:38.559652",
   "version": "2.3.4"
  }
 },
 "nbformat": 4,
 "nbformat_minor": 5
}
