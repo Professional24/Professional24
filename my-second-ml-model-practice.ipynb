{
 "cells": [
  {
   "cell_type": "code",
   "execution_count": 1,
   "id": "ef48b01c",
   "metadata": {
    "_cell_guid": "b1076dfc-b9ad-4769-8c92-a6c4dae69d19",
    "_uuid": "8f2839f25d086af736a60e9eeb907d3b93b6e0e5",
    "execution": {
     "iopub.execute_input": "2022-12-06T15:26:56.973988Z",
     "iopub.status.busy": "2022-12-06T15:26:56.973524Z",
     "iopub.status.idle": "2022-12-06T15:26:56.990470Z",
     "shell.execute_reply": "2022-12-06T15:26:56.989779Z"
    },
    "papermill": {
     "duration": 0.024774,
     "end_time": "2022-12-06T15:26:56.992594",
     "exception": false,
     "start_time": "2022-12-06T15:26:56.967820",
     "status": "completed"
    },
    "tags": []
   },
   "outputs": [
    {
     "name": "stdout",
     "output_type": "stream",
     "text": [
      "/kaggle/input/jobs-dataset-from-glassdoor/salary_data_cleaned.csv\n",
      "/kaggle/input/jobs-dataset-from-glassdoor/glassdoor_jobs.csv\n",
      "/kaggle/input/jobs-dataset-from-glassdoor/eda_data.csv\n"
     ]
    }
   ],
   "source": [
    "# This Python 3 environment comes with many helpful analytics libraries installed\n",
    "# It is defined by the kaggle/python Docker image: https://github.com/kaggle/docker-python\n",
    "# For example, here's several helpful packages to load\n",
    "\n",
    "import numpy as np # linear algebra\n",
    "import pandas as pd # data processing, CSV file I/O (e.g. pd.read_csv)\n",
    "\n",
    "# Input data files are available in the read-only \"../input/\" directory\n",
    "# For example, running this (by clicking run or pressing Shift+Enter) will list all files under the input directory\n",
    "\n",
    "import os\n",
    "for dirname, _, filenames in os.walk('/kaggle/input'):\n",
    "    for filename in filenames:\n",
    "        print(os.path.join(dirname, filename))\n",
    "\n",
    "# You can write up to 20GB to the current directory (/kaggle/working/) that gets preserved as output when you create a version using \"Save & Run All\" \n",
    "# You can also write temporary files to /kaggle/temp/, but they won't be saved outside of the current session"
   ]
  },
  {
   "cell_type": "markdown",
   "id": "26f311e2",
   "metadata": {
    "papermill": {
     "duration": 0.003107,
     "end_time": "2022-12-06T15:26:56.999385",
     "exception": false,
     "start_time": "2022-12-06T15:26:56.996278",
     "status": "completed"
    },
    "tags": []
   },
   "source": [
    "**Aim:** To predict maximum salary based on the minimum salary\n",
    "\n",
    "**References:**\n",
    "\n",
    "Source of Salary Prediction Dataset used: The Devastor (2022) https://www.kaggle.com/datasets/thedevastator/jobs-dataset-from-glassdoor Date Accessed: 05-12-2022\n",
    "\n",
    "Tutorial used to build this model: Kaggle (2022) https://www.kaggle.com/learn/intro-to-machine-learning Date Accessed: 05-12-2022"
   ]
  },
  {
   "cell_type": "code",
   "execution_count": 2,
   "id": "d5ba0592",
   "metadata": {
    "execution": {
     "iopub.execute_input": "2022-12-06T15:26:57.007451Z",
     "iopub.status.busy": "2022-12-06T15:26:57.007117Z",
     "iopub.status.idle": "2022-12-06T15:26:57.120982Z",
     "shell.execute_reply": "2022-12-06T15:26:57.120014Z"
    },
    "papermill": {
     "duration": 0.120777,
     "end_time": "2022-12-06T15:26:57.123557",
     "exception": false,
     "start_time": "2022-12-06T15:26:57.002780",
     "status": "completed"
    },
    "tags": []
   },
   "outputs": [
    {
     "data": {
      "text/plain": [
       "Index(['Job Title', 'Salary Estimate', 'Job Description', 'Rating',\n",
       "       'Company Name', 'Location', 'Headquarters', 'Size', 'Founded',\n",
       "       'Type of ownership', 'Industry', 'Sector', 'Revenue', 'Competitors',\n",
       "       'hourly', 'employer_provided', 'min_salary', 'max_salary', 'avg_salary',\n",
       "       'company_txt', 'job_state', 'same_state', 'age', 'python_yn', 'R_yn',\n",
       "       'spark', 'aws', 'excel'],\n",
       "      dtype='object')"
      ]
     },
     "execution_count": 2,
     "metadata": {},
     "output_type": "execute_result"
    }
   ],
   "source": [
    "import pandas as pd  \n",
    "salary_file_path = '../input/jobs-dataset-from-glassdoor/salary_data_cleaned.csv'\n",
    "salary_data = pd.read_csv(salary_file_path)\n",
    "salary_data.columns"
   ]
  },
  {
   "cell_type": "code",
   "execution_count": 3,
   "id": "032c3565",
   "metadata": {
    "execution": {
     "iopub.execute_input": "2022-12-06T15:26:57.131923Z",
     "iopub.status.busy": "2022-12-06T15:26:57.131604Z",
     "iopub.status.idle": "2022-12-06T15:26:57.145302Z",
     "shell.execute_reply": "2022-12-06T15:26:57.143615Z"
    },
    "papermill": {
     "duration": 0.020873,
     "end_time": "2022-12-06T15:26:57.147938",
     "exception": false,
     "start_time": "2022-12-06T15:26:57.127065",
     "status": "completed"
    },
    "tags": []
   },
   "outputs": [],
   "source": [
    "salary_data = salary_data.dropna(axis=0)"
   ]
  },
  {
   "cell_type": "code",
   "execution_count": 4,
   "id": "2f9304ad",
   "metadata": {
    "execution": {
     "iopub.execute_input": "2022-12-06T15:26:57.157690Z",
     "iopub.status.busy": "2022-12-06T15:26:57.157133Z",
     "iopub.status.idle": "2022-12-06T15:26:57.188051Z",
     "shell.execute_reply": "2022-12-06T15:26:57.187053Z"
    },
    "papermill": {
     "duration": 0.038505,
     "end_time": "2022-12-06T15:26:57.190333",
     "exception": false,
     "start_time": "2022-12-06T15:26:57.151828",
     "status": "completed"
    },
    "tags": []
   },
   "outputs": [
    {
     "data": {
      "text/html": [
       "<div>\n",
       "<style scoped>\n",
       "    .dataframe tbody tr th:only-of-type {\n",
       "        vertical-align: middle;\n",
       "    }\n",
       "\n",
       "    .dataframe tbody tr th {\n",
       "        vertical-align: top;\n",
       "    }\n",
       "\n",
       "    .dataframe thead th {\n",
       "        text-align: right;\n",
       "    }\n",
       "</style>\n",
       "<table border=\"1\" class=\"dataframe\">\n",
       "  <thead>\n",
       "    <tr style=\"text-align: right;\">\n",
       "      <th></th>\n",
       "      <th>min_salary</th>\n",
       "    </tr>\n",
       "  </thead>\n",
       "  <tbody>\n",
       "    <tr>\n",
       "      <th>count</th>\n",
       "      <td>742.000000</td>\n",
       "    </tr>\n",
       "    <tr>\n",
       "      <th>mean</th>\n",
       "      <td>74.068733</td>\n",
       "    </tr>\n",
       "    <tr>\n",
       "      <th>std</th>\n",
       "      <td>31.869282</td>\n",
       "    </tr>\n",
       "    <tr>\n",
       "      <th>min</th>\n",
       "      <td>10.000000</td>\n",
       "    </tr>\n",
       "    <tr>\n",
       "      <th>25%</th>\n",
       "      <td>52.000000</td>\n",
       "    </tr>\n",
       "    <tr>\n",
       "      <th>50%</th>\n",
       "      <td>69.500000</td>\n",
       "    </tr>\n",
       "    <tr>\n",
       "      <th>75%</th>\n",
       "      <td>91.000000</td>\n",
       "    </tr>\n",
       "    <tr>\n",
       "      <th>max</th>\n",
       "      <td>202.000000</td>\n",
       "    </tr>\n",
       "  </tbody>\n",
       "</table>\n",
       "</div>"
      ],
      "text/plain": [
       "       min_salary\n",
       "count  742.000000\n",
       "mean    74.068733\n",
       "std     31.869282\n",
       "min     10.000000\n",
       "25%     52.000000\n",
       "50%     69.500000\n",
       "75%     91.000000\n",
       "max    202.000000"
      ]
     },
     "execution_count": 4,
     "metadata": {},
     "output_type": "execute_result"
    }
   ],
   "source": [
    "y = salary_data.max_salary\n",
    "salary_features = ['min_salary']\n",
    "X = salary_data[salary_features]\n",
    "X.describe()"
   ]
  },
  {
   "cell_type": "code",
   "execution_count": 5,
   "id": "8aa54310",
   "metadata": {
    "execution": {
     "iopub.execute_input": "2022-12-06T15:26:57.199938Z",
     "iopub.status.busy": "2022-12-06T15:26:57.199581Z",
     "iopub.status.idle": "2022-12-06T15:26:57.212054Z",
     "shell.execute_reply": "2022-12-06T15:26:57.210780Z"
    },
    "papermill": {
     "duration": 0.01991,
     "end_time": "2022-12-06T15:26:57.214364",
     "exception": false,
     "start_time": "2022-12-06T15:26:57.194454",
     "status": "completed"
    },
    "tags": []
   },
   "outputs": [
    {
     "data": {
      "text/html": [
       "<div>\n",
       "<style scoped>\n",
       "    .dataframe tbody tr th:only-of-type {\n",
       "        vertical-align: middle;\n",
       "    }\n",
       "\n",
       "    .dataframe tbody tr th {\n",
       "        vertical-align: top;\n",
       "    }\n",
       "\n",
       "    .dataframe thead th {\n",
       "        text-align: right;\n",
       "    }\n",
       "</style>\n",
       "<table border=\"1\" class=\"dataframe\">\n",
       "  <thead>\n",
       "    <tr style=\"text-align: right;\">\n",
       "      <th></th>\n",
       "      <th>min_salary</th>\n",
       "    </tr>\n",
       "  </thead>\n",
       "  <tbody>\n",
       "    <tr>\n",
       "      <th>0</th>\n",
       "      <td>53</td>\n",
       "    </tr>\n",
       "    <tr>\n",
       "      <th>1</th>\n",
       "      <td>63</td>\n",
       "    </tr>\n",
       "    <tr>\n",
       "      <th>2</th>\n",
       "      <td>80</td>\n",
       "    </tr>\n",
       "    <tr>\n",
       "      <th>3</th>\n",
       "      <td>56</td>\n",
       "    </tr>\n",
       "    <tr>\n",
       "      <th>4</th>\n",
       "      <td>86</td>\n",
       "    </tr>\n",
       "  </tbody>\n",
       "</table>\n",
       "</div>"
      ],
      "text/plain": [
       "   min_salary\n",
       "0          53\n",
       "1          63\n",
       "2          80\n",
       "3          56\n",
       "4          86"
      ]
     },
     "execution_count": 5,
     "metadata": {},
     "output_type": "execute_result"
    }
   ],
   "source": [
    "X.head()"
   ]
  },
  {
   "cell_type": "code",
   "execution_count": 6,
   "id": "daec38d2",
   "metadata": {
    "execution": {
     "iopub.execute_input": "2022-12-06T15:26:57.223780Z",
     "iopub.status.busy": "2022-12-06T15:26:57.223446Z",
     "iopub.status.idle": "2022-12-06T15:26:58.442054Z",
     "shell.execute_reply": "2022-12-06T15:26:58.441201Z"
    },
    "papermill": {
     "duration": 1.225727,
     "end_time": "2022-12-06T15:26:58.444129",
     "exception": false,
     "start_time": "2022-12-06T15:26:57.218402",
     "status": "completed"
    },
    "tags": []
   },
   "outputs": [
    {
     "data": {
      "text/plain": [
       "DecisionTreeRegressor(random_state=1)"
      ]
     },
     "execution_count": 6,
     "metadata": {},
     "output_type": "execute_result"
    }
   ],
   "source": [
    "from sklearn.tree import DecisionTreeRegressor\n",
    "\n",
    "salary_model = DecisionTreeRegressor(random_state=1)\n",
    "\n",
    "salary_model.fit(X, y)"
   ]
  },
  {
   "cell_type": "code",
   "execution_count": 7,
   "id": "5b310b23",
   "metadata": {
    "execution": {
     "iopub.execute_input": "2022-12-06T15:26:58.457011Z",
     "iopub.status.busy": "2022-12-06T15:26:58.456308Z",
     "iopub.status.idle": "2022-12-06T15:26:58.464432Z",
     "shell.execute_reply": "2022-12-06T15:26:58.463572Z"
    },
    "papermill": {
     "duration": 0.016005,
     "end_time": "2022-12-06T15:26:58.466272",
     "exception": false,
     "start_time": "2022-12-06T15:26:58.450267",
     "status": "completed"
    },
    "tags": []
   },
   "outputs": [
    {
     "name": "stdout",
     "output_type": "stream",
     "text": [
      "Making predictions for the following 5 rows of maximum salaries:\n",
      "   min_salary\n",
      "0          53\n",
      "1          63\n",
      "2          80\n",
      "3          56\n",
      "4          86\n",
      "The predictions are\n",
      "[ 95.16666667 109.1875     132.22222222  97.         141.53333333]\n"
     ]
    }
   ],
   "source": [
    "print(\"Making predictions for the following 5 rows of maximum salaries:\")\n",
    "print(X.head())\n",
    "print(\"The predictions are\")\n",
    "print(salary_model.predict(X.head()))"
   ]
  },
  {
   "cell_type": "code",
   "execution_count": 8,
   "id": "166962e5",
   "metadata": {
    "execution": {
     "iopub.execute_input": "2022-12-06T15:26:58.476191Z",
     "iopub.status.busy": "2022-12-06T15:26:58.475621Z",
     "iopub.status.idle": "2022-12-06T15:26:58.484434Z",
     "shell.execute_reply": "2022-12-06T15:26:58.482793Z"
    },
    "papermill": {
     "duration": 0.017043,
     "end_time": "2022-12-06T15:26:58.487383",
     "exception": false,
     "start_time": "2022-12-06T15:26:58.470340",
     "status": "completed"
    },
    "tags": []
   },
   "outputs": [
    {
     "data": {
      "text/plain": [
       "7.632434535585795"
      ]
     },
     "execution_count": 8,
     "metadata": {},
     "output_type": "execute_result"
    }
   ],
   "source": [
    "from sklearn.metrics import mean_absolute_error\n",
    "predicted_salary = salary_model.predict(X)\n",
    "mean_absolute_error(y, predicted_salary)"
   ]
  },
  {
   "cell_type": "code",
   "execution_count": 9,
   "id": "de74880f",
   "metadata": {
    "execution": {
     "iopub.execute_input": "2022-12-06T15:26:58.497072Z",
     "iopub.status.busy": "2022-12-06T15:26:58.496762Z",
     "iopub.status.idle": "2022-12-06T15:26:58.508327Z",
     "shell.execute_reply": "2022-12-06T15:26:58.506868Z"
    },
    "papermill": {
     "duration": 0.019543,
     "end_time": "2022-12-06T15:26:58.511337",
     "exception": false,
     "start_time": "2022-12-06T15:26:58.491794",
     "status": "completed"
    },
    "tags": []
   },
   "outputs": [
    {
     "name": "stdout",
     "output_type": "stream",
     "text": [
      "9.570492022911377\n"
     ]
    }
   ],
   "source": [
    "from sklearn.model_selection import train_test_split\n",
    "train_X, val_X, train_y, val_y = train_test_split(X, y, random_state=0)\n",
    "salary_model = DecisionTreeRegressor()\n",
    "salary_model.fit(train_X, train_y)\n",
    "val_predictions = salary_model.predict(val_X)\n",
    "print(mean_absolute_error(val_y, val_predictions))"
   ]
  },
  {
   "cell_type": "code",
   "execution_count": 10,
   "id": "d7cd7738",
   "metadata": {
    "execution": {
     "iopub.execute_input": "2022-12-06T15:26:58.522524Z",
     "iopub.status.busy": "2022-12-06T15:26:58.521318Z",
     "iopub.status.idle": "2022-12-06T15:26:58.528545Z",
     "shell.execute_reply": "2022-12-06T15:26:58.527233Z"
    },
    "papermill": {
     "duration": 0.015081,
     "end_time": "2022-12-06T15:26:58.530914",
     "exception": false,
     "start_time": "2022-12-06T15:26:58.515833",
     "status": "completed"
    },
    "tags": []
   },
   "outputs": [],
   "source": [
    "from sklearn.metrics import mean_absolute_error\n",
    "from sklearn.tree import DecisionTreeRegressor\n",
    "def get_mae(max_leaf_nodes, train_X, val_X, train_y, val_y):\n",
    "    model = DecisionTreeRegressor(max_leaf_nodes=max_leaf_nodes,random_state=0)\n",
    "    model.fit(train_X, train_y)\n",
    "    preds_val = model.predict(val_X)\n",
    "    mae = mean_absolute_error(val_y, preds_val)\n",
    "    return(mae)"
   ]
  },
  {
   "cell_type": "code",
   "execution_count": 11,
   "id": "08ef3123",
   "metadata": {
    "execution": {
     "iopub.execute_input": "2022-12-06T15:26:58.541301Z",
     "iopub.status.busy": "2022-12-06T15:26:58.540824Z",
     "iopub.status.idle": "2022-12-06T15:26:58.561445Z",
     "shell.execute_reply": "2022-12-06T15:26:58.559528Z"
    },
    "papermill": {
     "duration": 0.028267,
     "end_time": "2022-12-06T15:26:58.563625",
     "exception": false,
     "start_time": "2022-12-06T15:26:58.535358",
     "status": "completed"
    },
    "tags": []
   },
   "outputs": [
    {
     "name": "stdout",
     "output_type": "stream",
     "text": [
      "Max leaf nodes: 5 \t \t Mean Absolute Error: 15\n",
      "Max leaf nodes: 50 \t \t Mean Absolute Error: 9\n",
      "Max leaf nodes: 500 \t \t Mean Absolute Error: 9\n",
      "Max leaf nodes: 5000 \t \t Mean Absolute Error: 9\n"
     ]
    }
   ],
   "source": [
    "for max_leaf_nodes in [5, 50, 500, 5000]:\n",
    "    my_mae = get_mae(max_leaf_nodes, train_X, val_X, train_y, val_y)\n",
    "    print(\"Max leaf nodes: %d \\t \\t Mean Absolute Error: %d\" %(max_leaf_nodes, my_mae))"
   ]
  },
  {
   "cell_type": "code",
   "execution_count": 12,
   "id": "6d300d8f",
   "metadata": {
    "execution": {
     "iopub.execute_input": "2022-12-06T15:26:58.573648Z",
     "iopub.status.busy": "2022-12-06T15:26:58.573237Z",
     "iopub.status.idle": "2022-12-06T15:26:58.757254Z",
     "shell.execute_reply": "2022-12-06T15:26:58.756183Z"
    },
    "papermill": {
     "duration": 0.191441,
     "end_time": "2022-12-06T15:26:58.759240",
     "exception": false,
     "start_time": "2022-12-06T15:26:58.567799",
     "status": "completed"
    },
    "tags": []
   },
   "outputs": [
    {
     "name": "stdout",
     "output_type": "stream",
     "text": [
      "9.511016584272577\n"
     ]
    }
   ],
   "source": [
    "from sklearn.ensemble import RandomForestRegressor\n",
    "from sklearn.metrics import mean_absolute_error\n",
    "forest_model = RandomForestRegressor(random_state=1)\n",
    "forest_model.fit(train_X, train_y)\n",
    "salary_preds = forest_model.predict(val_X)\n",
    "print(mean_absolute_error(val_y, salary_preds))"
   ]
  }
 ],
 "metadata": {
  "kernelspec": {
   "display_name": "Python 3",
   "language": "python",
   "name": "python3"
  },
  "language_info": {
   "codemirror_mode": {
    "name": "ipython",
    "version": 3
   },
   "file_extension": ".py",
   "mimetype": "text/x-python",
   "name": "python",
   "nbconvert_exporter": "python",
   "pygments_lexer": "ipython3",
   "version": "3.7.12"
  },
  "papermill": {
   "default_parameters": {},
   "duration": 10.581123,
   "end_time": "2022-12-06T15:26:59.484382",
   "environment_variables": {},
   "exception": null,
   "input_path": "__notebook__.ipynb",
   "output_path": "__notebook__.ipynb",
   "parameters": {},
   "start_time": "2022-12-06T15:26:48.903259",
   "version": "2.3.4"
  }
 },
 "nbformat": 4,
 "nbformat_minor": 5
}
